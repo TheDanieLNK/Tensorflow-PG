{
 "cells": [
  {
   "cell_type": "code",
   "execution_count": 0,
   "metadata": {
    "id": "X2FLJnBzaAoC",
    "colab_type": "code",
    "colab": {
     "autoexec": {
      "startup": false,
      "wait_interval": 0.0
     }
    }
   },
   "outputs": [],
   "source": [
    "import tensorflow as tf"
   ]
  },
  {
   "cell_type": "code",
   "execution_count": 0,
   "metadata": {
    "id": "1gBtg2u0aE3Z",
    "colab_type": "code",
    "colab": {
     "autoexec": {
      "startup": false,
      "wait_interval": 0.0
     }
    }
   },
   "outputs": [],
   "source": [
    "x = tf.constant([2])\n",
    "y = tf.constant([4])\n",
    "\n",
    "z = tf.add(x,y)"
   ]
  },
  {
   "cell_type": "code",
   "execution_count": 16,
   "metadata": {
    "id": "7hxCKMAoagyr",
    "colab_type": "code",
    "colab": {
     "autoexec": {
      "startup": false,
      "wait_interval": 0.0
     },
     "output_extras": [
      {
       "item_id": 1.0
      }
     ],
     "base_uri": "https://localhost:8080/",
     "height": 34.0
    },
    "outputId": "202c867d-9c92-4676-ae2d-61d85e6bad3f",
    "executionInfo": {
     "status": "ok",
     "timestamp": 1.517758846763E12,
     "user_tz": -120.0,
     "elapsed": 930.0,
     "user": {
      "displayName": "Daniel Nkemelu",
      "photoUrl": "https://lh3.googleusercontent.com/a/default-user=s128",
      "userId": "112085088732094311409"
     }
    }
   },
   "outputs": [
    {
     "name": "stdout",
     "output_type": "stream",
     "text": [
      "[6]\n"
     ]
    }
   ],
   "source": [
    "with tf.Session() as sesssion:\n",
    "  result = session.run(z)\n",
    "  print(result)"
   ]
  },
  {
   "cell_type": "code",
   "execution_count": 20,
   "metadata": {
    "id": "dPHkqtGoan-2",
    "colab_type": "code",
    "colab": {
     "autoexec": {
      "startup": false,
      "wait_interval": 0.0
     },
     "output_extras": [
      {
       "item_id": 1.0
      }
     ],
     "base_uri": "https://localhost:8080/",
     "height": 289.0
    },
    "outputId": "ce12cf14-1260-4a14-e9c3-dad7e273260c",
    "executionInfo": {
     "status": "ok",
     "timestamp": 1.517759194055E12,
     "user_tz": -120.0,
     "elapsed": 799.0,
     "user": {
      "displayName": "Daniel Nkemelu",
      "photoUrl": "https://lh3.googleusercontent.com/a/default-user=s128",
      "userId": "112085088732094311409"
     }
    }
   },
   "outputs": [
    {
     "name": "stdout",
     "output_type": "stream",
     "text": [
      "[7]\n",
      "[5.2 6.1 2.8]\n",
      "[[1 2 3]\n",
      " [9 8 7]\n",
      " [6 4 8]]\n",
      "[[[ 1  2  3]\n",
      "  [ 2  3  4]\n",
      "  [ 3  4  5]]\n",
      "\n",
      " [[ 4  5  6]\n",
      "  [ 5  6  7]\n",
      "  [ 6  7  8]]\n",
      "\n",
      " [[ 7  8  9]\n",
      "  [ 8  9 10]\n",
      "  [ 9 10 11]]]\n"
     ]
    }
   ],
   "source": [
    "Scalar = tf.constant([7])\n",
    "Vector = tf.constant([5.2,6.1,2.8])\n",
    "Matrix = tf.constant([[1,2,3],[9,8,7],[6,4,8]])\n",
    "Tensor = tf.constant( [ [[1,2,3],[2,3,4],[3,4,5]] , [[4,5,6],[5,6,7],[6,7,8]] , [[7,8,9],[8,9,10],[9,10,11]] ] )\n",
    "with tf.Session() as session:\n",
    "    result = session.run(Scalar)\n",
    "    print(result)\n",
    "    result = session.run(Vector)\n",
    "    print(result)\n",
    "    result = session.run(Matrix)\n",
    "    print(result)\n",
    "    result = session.run(Tensor)\n",
    "    print(result)"
   ]
  },
  {
   "cell_type": "code",
   "execution_count": 25,
   "metadata": {
    "id": "2vDuUfPof2Bl",
    "colab_type": "code",
    "colab": {
     "autoexec": {
      "startup": false,
      "wait_interval": 0.0
     },
     "output_extras": [
      {
       "item_id": 1.0
      }
     ],
     "base_uri": "https://localhost:8080/",
     "height": 153.0
    },
    "outputId": "d4abe911-6173-4182-fed2-05cfe3c4c584",
    "executionInfo": {
     "status": "ok",
     "timestamp": 1.517759250966E12,
     "user_tz": -120.0,
     "elapsed": 796.0,
     "user": {
      "displayName": "Daniel Nkemelu",
      "photoUrl": "https://lh3.googleusercontent.com/a/default-user=s128",
      "userId": "112085088732094311409"
     }
    }
   },
   "outputs": [
    {
     "name": "stdout",
     "output_type": "stream",
     "text": [
      "Defined using tensorflow function: \n",
      "[[3 4 5]\n",
      " [4 5 6]\n",
      " [5 6 7]]\n",
      "Defined using normal expressions: \n",
      "[[3 4 5]\n",
      " [4 5 6]\n",
      " [5 6 7]]\n"
     ]
    }
   ],
   "source": [
    "Matrix_one = tf.constant([[1,2,3],[2,3,4],[3,4,5]])\n",
    "Matrix_two = tf.constant([[2,2,2],[2,2,2],[2,2,2]])\n",
    "\n",
    "first_operation = tf.add(Matrix_one, Matrix_two)\n",
    "second_operation = Matrix_one + Matrix_two\n",
    "\n",
    "with tf.Session() as session:\n",
    "    result = session.run(first_operation)\n",
    "    print(\"Defined using tensorflow function: \")\n",
    "    print(result)\n",
    "    result = session.run(second_operation)\n",
    "    print(\"Defined using normal expressions: \")\n",
    "    print(result)"
   ]
  },
  {
   "cell_type": "code",
   "execution_count": 27,
   "metadata": {
    "id": "DPX23nIRgD6u",
    "colab_type": "code",
    "colab": {
     "autoexec": {
      "startup": false,
      "wait_interval": 0.0
     },
     "output_extras": [
      {
       "item_id": 1.0
      }
     ],
     "base_uri": "https://localhost:8080/",
     "height": 68.0
    },
    "outputId": "0abb0d89-073d-4891-d9db-6bb1b6fad0ed",
    "executionInfo": {
     "status": "ok",
     "timestamp": 1.51775930474E12,
     "user_tz": -120.0,
     "elapsed": 851.0,
     "user": {
      "displayName": "Daniel Nkemelu",
      "photoUrl": "https://lh3.googleusercontent.com/a/default-user=s128",
      "userId": "112085088732094311409"
     }
    }
   },
   "outputs": [
    {
     "name": "stdout",
     "output_type": "stream",
     "text": [
      "Defined using tensorflow function :\n",
      "[[13 18]\n",
      " [18 25]]\n"
     ]
    }
   ],
   "source": [
    "Matrix_one = tf.constant([[2,3],[3,4]])\n",
    "Matrix_two = tf.constant([[2,3],[3,4]])\n",
    "\n",
    "first_operation = tf.matmul(Matrix_one, Matrix_two)\n",
    "\n",
    "with tf.Session() as session:\n",
    "    result = session.run(first_operation)\n",
    "    print(\"Defined using tensorflow function :\")\n",
    "    print(result)"
   ]
  },
  {
   "cell_type": "code",
   "execution_count": 0,
   "metadata": {
    "id": "jo8iSIL9gO0l",
    "colab_type": "code",
    "colab": {
     "autoexec": {
      "startup": false,
      "wait_interval": 0.0
     }
    }
   },
   "outputs": [],
   "source": [
    "state = tf.Variable(0)"
   ]
  },
  {
   "cell_type": "code",
   "execution_count": 0,
   "metadata": {
    "id": "q-wkxVN5hXpw",
    "colab_type": "code",
    "colab": {
     "autoexec": {
      "startup": false,
      "wait_interval": 0.0
     }
    }
   },
   "outputs": [],
   "source": [
    "one = tf.constant(1)\n",
    "new_value = tf.add(state, one)\n",
    "update = tf.assign(state, new_value)"
   ]
  },
  {
   "cell_type": "code",
   "execution_count": 0,
   "metadata": {
    "id": "krx2at-khdLt",
    "colab_type": "code",
    "colab": {
     "autoexec": {
      "startup": false,
      "wait_interval": 0.0
     }
    }
   },
   "outputs": [],
   "source": [
    "init_op = tf.global_variables_initializer()"
   ]
  },
  {
   "cell_type": "code",
   "execution_count": 33,
   "metadata": {
    "id": "9V-QljE2hhwH",
    "colab_type": "code",
    "colab": {
     "autoexec": {
      "startup": false,
      "wait_interval": 0.0
     },
     "output_extras": [
      {
       "item_id": 1.0
      }
     ],
     "base_uri": "https://localhost:8080/",
     "height": 85.0
    },
    "outputId": "5769b56a-24b0-4a3c-87eb-fa304dfca2a5",
    "executionInfo": {
     "status": "ok",
     "timestamp": 1.517759767172E12,
     "user_tz": -120.0,
     "elapsed": 789.0,
     "user": {
      "displayName": "Daniel Nkemelu",
      "photoUrl": "https://lh3.googleusercontent.com/a/default-user=s128",
      "userId": "112085088732094311409"
     }
    }
   },
   "outputs": [
    {
     "name": "stdout",
     "output_type": "stream",
     "text": [
      "0\n",
      "1\n",
      "2\n",
      "3\n"
     ]
    }
   ],
   "source": [
    "with tf.Session() as session:\n",
    "  session.run(init_op)\n",
    "  print(session.run(state))\n",
    "  for _ in range(3):\n",
    "    session.run(update)\n",
    "    print(session.run(state))"
   ]
  },
  {
   "cell_type": "code",
   "execution_count": 0,
   "metadata": {
    "id": "X0so-E4DiB8n",
    "colab_type": "code",
    "colab": {
     "autoexec": {
      "startup": false,
      "wait_interval": 0.0
     }
    }
   },
   "outputs": [],
   "source": [
    "a=tf.placeholder(tf.float32)"
   ]
  },
  {
   "cell_type": "code",
   "execution_count": 0,
   "metadata": {
    "id": "NXMxLJ0HiEaK",
    "colab_type": "code",
    "colab": {
     "autoexec": {
      "startup": false,
      "wait_interval": 0.0
     }
    }
   },
   "outputs": [],
   "source": [
    "b=a**2"
   ]
  },
  {
   "cell_type": "code",
   "execution_count": 40,
   "metadata": {
    "id": "WIU8wWdbiNII",
    "colab_type": "code",
    "colab": {
     "autoexec": {
      "startup": false,
      "wait_interval": 0.0
     },
     "output_extras": [
      {
       "item_id": 1.0
      }
     ],
     "base_uri": "https://localhost:8080/",
     "height": 34.0
    },
    "outputId": "e374751e-7c91-420d-c4c2-8aa41b1d51f9",
    "executionInfo": {
     "status": "ok",
     "timestamp": 1.517759826497E12,
     "user_tz": -120.0,
     "elapsed": 844.0,
     "user": {
      "displayName": "Daniel Nkemelu",
      "photoUrl": "https://lh3.googleusercontent.com/a/default-user=s128",
      "userId": "112085088732094311409"
     }
    }
   },
   "outputs": [
    {
     "name": "stdout",
     "output_type": "stream",
     "text": [
      "25.0\n"
     ]
    }
   ],
   "source": [
    "with tf.Session() as sess:\n",
    "    result = sess.run(b,feed_dict={a:5})\n",
    "    print(result)"
   ]
  },
  {
   "cell_type": "code",
   "execution_count": 42,
   "metadata": {
    "id": "RzbaRNiqiPCk",
    "colab_type": "code",
    "colab": {
     "autoexec": {
      "startup": false,
      "wait_interval": 0.0
     },
     "output_extras": [
      {
       "item_id": 1.0
      }
     ],
     "base_uri": "https://localhost:8080/",
     "height": 170.0
    },
    "outputId": "525ee952-e88e-4e6e-abd6-f9b0f8098a9f",
    "executionInfo": {
     "status": "ok",
     "timestamp": 1.517759871057E12,
     "user_tz": -120.0,
     "elapsed": 841.0,
     "user": {
      "displayName": "Daniel Nkemelu",
      "photoUrl": "https://lh3.googleusercontent.com/a/default-user=s128",
      "userId": "112085088732094311409"
     }
    }
   },
   "outputs": [
    {
     "name": "stdout",
     "output_type": "stream",
     "text": [
      "[[[  1.   4.   9.]\n",
      "  [ 16.  25.  36.]\n",
      "  [ 49.  64.  81.]\n",
      "  [100. 121. 144.]]\n",
      "\n",
      " [[169. 196. 225.]\n",
      "  [256. 289. 324.]\n",
      "  [361. 400. 441.]\n",
      "  [484. 529. 576.]]]\n"
     ]
    }
   ],
   "source": [
    "dictionary={a: [ [ [1,2,3],[4,5,6],[7,8,9],[10,11,12] ] , [ [13,14,15],[16,17,18],[19,20,21],[22,23,24] ] ] }\n",
    "\n",
    "with tf.Session() as sess:\n",
    "    result = sess.run(b,feed_dict=dictionary)\n",
    "    print(result)"
   ]
  },
  {
   "cell_type": "code",
   "execution_count": 43,
   "metadata": {
    "id": "TB-zyKIviZcF",
    "colab_type": "code",
    "colab": {
     "autoexec": {
      "startup": false,
      "wait_interval": 0.0
     },
     "output_extras": [
      {
       "item_id": 1.0
      }
     ],
     "base_uri": "https://localhost:8080/",
     "height": 51.0
    },
    "outputId": "58610672-3383-4a14-e682-864720ac4b7b",
    "executionInfo": {
     "status": "ok",
     "timestamp": 1.517759975738E12,
     "user_tz": -120.0,
     "elapsed": 872.0,
     "user": {
      "displayName": "Daniel Nkemelu",
      "photoUrl": "https://lh3.googleusercontent.com/a/default-user=s128",
      "userId": "112085088732094311409"
     }
    }
   },
   "outputs": [
    {
     "name": "stdout",
     "output_type": "stream",
     "text": [
      "[7]\n",
      "[3]\n"
     ]
    }
   ],
   "source": [
    "a = tf.constant([5])\n",
    "b = tf.constant([2])\n",
    "c = tf.add(a,b)\n",
    "d = tf.subtract(a,b)\n",
    "\n",
    "with tf.Session() as session:\n",
    "    result = session.run(c)\n",
    "    print(result)\n",
    "    result = session.run(d)\n",
    "    print(result)"
   ]
  }
 ],
 "metadata": {
  "colab": {
   "name": "Untitled1.ipynb",
   "version": "0.3.2",
   "views": {},
   "default_view": {},
   "provenance": []
  },
  "kernelspec": {
   "name": "python3",
   "display_name": "Python 3"
  }
 },
 "nbformat": 4,
 "nbformat_minor": 0
}
